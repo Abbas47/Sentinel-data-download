{
 "cells": [
  {
   "cell_type": "code",
   "execution_count": 2,
   "metadata": {},
   "outputs": [
    {
     "data": {
      "text/plain": [
       "'This script is for downloading sentinel data using API'"
      ]
     },
     "execution_count": 2,
     "metadata": {},
     "output_type": "execute_result"
    }
   ],
   "source": [
    "'''This script is for downloading sentinel data using API based on the user inputs'''"
   ]
  },
  {
   "cell_type": "code",
   "execution_count": 3,
   "metadata": {},
   "outputs": [],
   "source": [
    "#### import libraries\n",
    "import os\n",
    "import json\n",
    "from sentinelsat import SentinelAPI, read_geojson, geojson_to_wkt, make_path_filter, placename_to_wkt\n",
    "from datetime import date"
   ]
  },
  {
   "cell_type": "code",
   "execution_count": 4,
   "metadata": {},
   "outputs": [],
   "source": [
    "#### base path\n",
    "base_path = os.getcwd()\n",
    "\n",
    "#### user inputs\n",
    "# for accessing sentinel API\n",
    "username = 'abnajmi2'\n",
    "password = 'Copernicus@04'\n",
    "# study area\n",
    "city_name = 'Enschede' # define if study area have to be selected by city name\n",
    "geojson_path = os.path.join(base_path,'filename.geojson') # define file path if study area have to be selected using polygon\n",
    "point = 'POINT (41.9 12.5)' # define if study area have to be selected by using point (in WKT)\n",
    "\n",
    "# date\n",
    "single_date = ('20151219', date(2015, 12, 29)) # if single date is defined\n",
    "range_date = ('20170801','20170830') # if duration is defined then user have to mention starting and ending date\n",
    "\n",
    "# output path to save the downloaded data\n",
    "output_path = os.path.join(base_path,'result')\n",
    "txt_path = os.path.join(output_path,'metadata.txt')"
   ]
  },
  {
   "cell_type": "code",
   "execution_count": 5,
   "metadata": {},
   "outputs": [],
   "source": [
    "#### accessing api through uerid and password\n",
    "api = SentinelAPI(username, password, 'https://apihub.copernicus.eu/apihub')\n",
    "\n",
    "#### search by footprint (study area), time, and SciHub query keywords\n",
    "# study area\n",
    "# footprint = geojson_to_wkt(read_geojson(geojson_path))\n",
    "# footprint = placename_to_wkt(city_name)[0]\n",
    "footprint = point\n",
    "\n",
    "#### querying available products based on user defined criteria\n",
    "products = api.query(footprint,\n",
    "                     date=single_date,\n",
    "                     platformname='Sentinel-2',\n",
    "                     cloudcoverpercentage=(0, 30))"
   ]
  },
  {
   "cell_type": "code",
   "execution_count": 6,
   "metadata": {},
   "outputs": [],
   "source": [
    "#### converting products output into geodataframe\n",
    "product_gpd = api.to_geodataframe(products)\n",
    "product_id = product_gpd['uuid'][0] # here i have hard coded the uuid from geodataframe for this implementation\n",
    "\n",
    "#### Get the product's full metadata available on the server\n",
    "metadata = api.get_product_odata(product_id, full=True)"
   ]
  },
  {
   "cell_type": "code",
   "execution_count": 6,
   "metadata": {},
   "outputs": [
    {
     "name": "stdout",
     "output_type": "stream",
     "text": [
      "Product 835405b7-2c17-4681-b743-fb9d7bb5591a is not online.\n"
     ]
    }
   ],
   "source": [
    "#### download all products\n",
    "'''\n",
    "It will download all available products either online or offline. It will download online products, while concurrently\n",
    "triggering the retrieval of offline products from the LTA in the background. download_all() terminates when all\n",
    "products have been retrieved from the LTA and downloaded.\n",
    "'''\n",
    "# api.download_all(products, directory_path=output_path)\n",
    "\n",
    "#### download slected product\n",
    "'''\n",
    "Copernicus Open Access Hub no longer stores all products online for immediate retrieval. Offline products can be\n",
    "requested from the Long Term Archive (LTA) and should become available within 24 hours. Copernicus Open Access\n",
    "Hub's quota currently permits users to request an offline product every 30 minutes.\n",
    "'''\n",
    "is_online = api.is_online(product_id) # checking the data whether it is online or offline\n",
    "if is_online:\n",
    "    print(f'Product {product_id} is online. Starting download.')\n",
    "    api.download(product_id, directory_path=output_path)\n",
    "else:\n",
    "    print(f'Product {product_id} is not online.') \n",
    "    api.trigger_offline_retrieval(product_id) # The retrieval of offline products from the LTA is triggered"
   ]
  },
  {
   "cell_type": "code",
   "execution_count": 11,
   "metadata": {},
   "outputs": [],
   "source": [
    "# creating .txt file for metadata\n",
    "with open(txt_path, 'w') as f:\n",
    "    for key, value in metadata.items(): \n",
    "        f.write('%s:%s\\n' % (key, value))"
   ]
  }
 ],
 "metadata": {
  "kernelspec": {
   "display_name": "Python 3.8.0 64-bit",
   "language": "python",
   "name": "python3"
  },
  "language_info": {
   "codemirror_mode": {
    "name": "ipython",
    "version": 3
   },
   "file_extension": ".py",
   "mimetype": "text/x-python",
   "name": "python",
   "nbconvert_exporter": "python",
   "pygments_lexer": "ipython3",
   "version": "3.8.0"
  },
  "orig_nbformat": 4,
  "vscode": {
   "interpreter": {
    "hash": "570feb405e2e27c949193ac68f46852414290d515b0ba6e5d90d076ed2284471"
   }
  }
 },
 "nbformat": 4,
 "nbformat_minor": 2
}
